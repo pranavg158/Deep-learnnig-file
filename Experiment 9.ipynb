{
 "cells": [
  {
   "cell_type": "code",
   "execution_count": 1,
   "metadata": {},
   "outputs": [],
   "source": [
    "#IMPORTING LIBRARIES\n",
    "import tensorflow as tf\n",
    "import numpy as np\n",
    "from tensorflow import keras\n",
    "from tensorflow.keras.preprocessing.image import ImageDataGenerator\n",
    "from tensorflow.keras.preprocessing import image\n",
    "import matplotlib.pyplot as plt"
   ]
  },
  {
   "cell_type": "code",
   "execution_count": 4,
   "metadata": {},
   "outputs": [
    {
     "name": "stdout",
     "output_type": "stream",
     "text": [
      "Found 8000 images belonging to 2 classes.\n",
      "Found 2000 images belonging to 2 classes.\n"
     ]
    }
   ],
   "source": [
    "#READING DATASET\n",
    "train = ImageDataGenerator(rescale=1/255)\n",
    "test = ImageDataGenerator(rescale=1/255)\n",
    "\n",
    "train_dataset = train.flow_from_directory(r\"C:\\Users\\Pranav\\Desktop\\deeplearning_file\\cat-dog\\dog vs cat\\dataset\\training_set\",\n",
    "                                          target_size=(150,150),\n",
    "                                          batch_size = 32,\n",
    "                                          class_mode = 'binary')\n",
    "                                         \n",
    "test_dataset = test.flow_from_directory(r\"C:\\Users\\Pranav\\Desktop\\deeplearning_file\\cat-dog\\dog vs cat\\dataset\\test_set\",\n",
    "                                          target_size=(150,150),\n",
    "                                          batch_size =32,\n",
    "                                          class_mode = 'binary')"
   ]
  },
  {
   "cell_type": "code",
   "execution_count": 5,
   "metadata": {},
   "outputs": [],
   "source": [
    "#MODEL TRAINING\n",
    "model = keras.Sequential()\n",
    "\n",
    "# Convolutional layer and maxpool layer 1\n",
    "model.add(keras.layers.Conv2D(32,(3,3),activation='relu',input_shape=(150,150,3)))\n",
    "model.add(keras.layers.MaxPool2D(2,2))\n",
    "\n",
    "# Convolutional layer and maxpool layer 2\n",
    "model.add(keras.layers.Conv2D(64,(3,3),activation='relu'))\n",
    "model.add(keras.layers.MaxPool2D(2,2))\n",
    "\n",
    "# Convolutional layer and maxpool layer 3\n",
    "model.add(keras.layers.Conv2D(128,(3,3),activation='relu'))\n",
    "model.add(keras.layers.MaxPool2D(2,2))\n",
    "\n",
    "# Convolutional layer and maxpool layer 4\n",
    "model.add(keras.layers.Conv2D(128,(3,3),activation='relu'))\n",
    "model.add(keras.layers.MaxPool2D(2,2))\n",
    "\n",
    "# This layer flattens the resulting image array to 1D array\n",
    "model.add(keras.layers.Flatten())\n",
    "\n",
    "# Hidden layer with 512 neurons and Rectified Linear Unit activation function \n",
    "model.add(keras.layers.Dense(512,activation='relu'))\n",
    "\n",
    "# Output layer with single neuron which gives 0 for Cat or 1 for Dog \n",
    "#Here we use sigmoid activation function which makes our model output to lie between 0 and 1\n",
    "model.add(keras.layers.Dense(1,activation='sigmoid'))"
   ]
  },
  {
   "cell_type": "code",
   "execution_count": 6,
   "metadata": {},
   "outputs": [],
   "source": [
    "model.compile(optimizer='adam',loss='binary_crossentropy',metrics=['accuracy'])"
   ]
  },
  {
   "cell_type": "code",
   "execution_count": 7,
   "metadata": {},
   "outputs": [
    {
     "name": "stdout",
     "output_type": "stream",
     "text": [
      "WARNING:tensorflow:From <ipython-input-7-66f4e830450d>:1: Model.fit_generator (from tensorflow.python.keras.engine.training) is deprecated and will be removed in a future version.\n",
      "Instructions for updating:\n",
      "Please use Model.fit, which supports generators.\n",
      "Epoch 1/10\n",
      "250/250 [==============================] - 116s 464ms/step - loss: 0.6617 - accuracy: 0.5960 - val_loss: 0.6620 - val_accuracy: 0.6205\n",
      "Epoch 2/10\n",
      "250/250 [==============================] - 89s 354ms/step - loss: 0.5908 - accuracy: 0.6811 - val_loss: 0.6006 - val_accuracy: 0.6755\n",
      "Epoch 3/10\n",
      "250/250 [==============================] - 91s 365ms/step - loss: 0.5160 - accuracy: 0.7479 - val_loss: 0.5061 - val_accuracy: 0.7575\n",
      "Epoch 4/10\n",
      "250/250 [==============================] - 90s 360ms/step - loss: 0.4590 - accuracy: 0.7820 - val_loss: 0.4441 - val_accuracy: 0.8050\n",
      "Epoch 5/10\n",
      "250/250 [==============================] - 87s 348ms/step - loss: 0.4088 - accuracy: 0.8079 - val_loss: 0.4257 - val_accuracy: 0.8135\n",
      "Epoch 6/10\n",
      "250/250 [==============================] - 87s 347ms/step - loss: 0.3504 - accuracy: 0.8425 - val_loss: 0.4063 - val_accuracy: 0.8225\n",
      "Epoch 7/10\n",
      "250/250 [==============================] - 88s 350ms/step - loss: 0.3062 - accuracy: 0.8676 - val_loss: 0.4303 - val_accuracy: 0.8210\n",
      "Epoch 8/10\n",
      "250/250 [==============================] - 87s 348ms/step - loss: 0.2364 - accuracy: 0.8975 - val_loss: 0.4254 - val_accuracy: 0.8350\n",
      "Epoch 9/10\n",
      "250/250 [==============================] - 87s 348ms/step - loss: 0.1908 - accuracy: 0.9197 - val_loss: 0.4920 - val_accuracy: 0.8260\n",
      "Epoch 10/10\n",
      "250/250 [==============================] - 88s 351ms/step - loss: 0.1338 - accuracy: 0.9476 - val_loss: 0.5240 - val_accuracy: 0.8425\n"
     ]
    },
    {
     "data": {
      "text/plain": [
       "<tensorflow.python.keras.callbacks.History at 0x2ad3f169e20>"
      ]
     },
     "execution_count": 7,
     "metadata": {},
     "output_type": "execute_result"
    }
   ],
   "source": [
    "model.fit_generator(train_dataset,\n",
    "         steps_per_epoch = 250,\n",
    "         epochs = 10,\n",
    "         validation_data = test_dataset\n",
    "       \n",
    "         )"
   ]
  },
  {
   "cell_type": "code",
   "execution_count": null,
   "metadata": {},
   "outputs": [],
   "source": []
  }
 ],
 "metadata": {
  "kernelspec": {
   "display_name": "Python 3",
   "language": "python",
   "name": "python3"
  },
  "language_info": {
   "codemirror_mode": {
    "name": "ipython",
    "version": 3
   },
   "file_extension": ".py",
   "mimetype": "text/x-python",
   "name": "python",
   "nbconvert_exporter": "python",
   "pygments_lexer": "ipython3",
   "version": "3.8.5"
  }
 },
 "nbformat": 4,
 "nbformat_minor": 4
}
