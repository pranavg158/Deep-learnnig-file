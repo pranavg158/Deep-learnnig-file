{
 "cells": [
  {
   "cell_type": "code",
   "execution_count": 1,
   "metadata": {},
   "outputs": [],
   "source": [
    "#IMPORTING LIBRARIES\n",
    "import tensorflow as tf\n",
    "import matplotlib.pyplot as plt\n",
    "import numpy as np\n",
    "import pandas as pd\n",
    "from tensorflow.keras import datasets,models,layers"
   ]
  },
  {
   "cell_type": "code",
   "execution_count": 2,
   "metadata": {},
   "outputs": [],
   "source": [
    "#LOADING DATASET\n",
    "data = tf.keras.datasets.cifar10"
   ]
  },
  {
   "cell_type": "code",
   "execution_count": 4,
   "metadata": {},
   "outputs": [],
   "source": [
    "(train_images, train_labels), (test_images, test_labels) = data.load_data()"
   ]
  },
  {
   "cell_type": "code",
   "execution_count": 5,
   "metadata": {},
   "outputs": [],
   "source": [
    "#NORMALIZING DATA\n",
    "train_images, test_images = train_images / 255.0, test_images / 255.0"
   ]
  },
  {
   "cell_type": "code",
   "execution_count": 6,
   "metadata": {},
   "outputs": [],
   "source": [
    "#MODEL \n",
    "model = tf.keras.models.Sequential([\n",
    "                        tf.keras.layers.Conv2D(32, (3, 3), activation='relu', input_shape=(32, 32, 3)),\n",
    "                        tf.keras.layers.MaxPooling2D(2, 2),\n",
    "                        tf.keras.layers.Conv2D(64, (3, 3), activation='relu'),\n",
    "                        tf.keras.layers.MaxPooling2D(2, 2),\n",
    "                        tf.keras.layers.Conv2D(512, (3, 3), activation='relu'),\n",
    "                        tf.keras.layers.Flatten(),\n",
    "                        tf.keras.layers.Dense(512, activation='relu'),\n",
    "                        tf.keras.layers.Dense(10, activation='softmax')])"
   ]
  },
  {
   "cell_type": "code",
   "execution_count": 7,
   "metadata": {},
   "outputs": [
    {
     "name": "stdout",
     "output_type": "stream",
     "text": [
      "Model: \"sequential\"\n",
      "_________________________________________________________________\n",
      "Layer (type)                 Output Shape              Param #   \n",
      "=================================================================\n",
      "conv2d (Conv2D)              (None, 30, 30, 32)        896       \n",
      "_________________________________________________________________\n",
      "max_pooling2d (MaxPooling2D) (None, 15, 15, 32)        0         \n",
      "_________________________________________________________________\n",
      "conv2d_1 (Conv2D)            (None, 13, 13, 64)        18496     \n",
      "_________________________________________________________________\n",
      "max_pooling2d_1 (MaxPooling2 (None, 6, 6, 64)          0         \n",
      "_________________________________________________________________\n",
      "conv2d_2 (Conv2D)            (None, 4, 4, 512)         295424    \n",
      "_________________________________________________________________\n",
      "flatten (Flatten)            (None, 8192)              0         \n",
      "_________________________________________________________________\n",
      "dense (Dense)                (None, 512)               4194816   \n",
      "_________________________________________________________________\n",
      "dense_1 (Dense)              (None, 10)                5130      \n",
      "=================================================================\n",
      "Total params: 4,514,762\n",
      "Trainable params: 4,514,762\n",
      "Non-trainable params: 0\n",
      "_________________________________________________________________\n"
     ]
    }
   ],
   "source": [
    "model.summary()"
   ]
  },
  {
   "cell_type": "code",
   "execution_count": 8,
   "metadata": {},
   "outputs": [
    {
     "name": "stdout",
     "output_type": "stream",
     "text": [
      "Epoch 1/20\n",
      "1563/1563 [==============================] - 60s 39ms/step - loss: 1.3950 - accuracy: 0.4951 - val_loss: 1.1095 - val_accuracy: 0.6045\n",
      "Epoch 2/20\n",
      "1563/1563 [==============================] - 43s 28ms/step - loss: 0.9893 - accuracy: 0.6498 - val_loss: 0.9342 - val_accuracy: 0.6707\n",
      "Epoch 3/20\n",
      "1563/1563 [==============================] - 43s 27ms/step - loss: 0.7922 - accuracy: 0.7225 - val_loss: 0.8590 - val_accuracy: 0.7014\n",
      "Epoch 4/20\n",
      "1563/1563 [==============================] - 43s 28ms/step - loss: 0.6303 - accuracy: 0.7803 - val_loss: 0.9208 - val_accuracy: 0.6957\n",
      "Epoch 5/20\n",
      "1563/1563 [==============================] - 44s 28ms/step - loss: 0.4768 - accuracy: 0.8328 - val_loss: 0.9345 - val_accuracy: 0.7115\n",
      "Epoch 6/20\n",
      "1563/1563 [==============================] - 43s 27ms/step - loss: 0.3294 - accuracy: 0.8830 - val_loss: 0.9962 - val_accuracy: 0.7120\n",
      "Epoch 7/20\n",
      "1563/1563 [==============================] - 43s 27ms/step - loss: 0.2195 - accuracy: 0.9229 - val_loss: 1.2158 - val_accuracy: 0.7073\n",
      "Epoch 8/20\n",
      "1563/1563 [==============================] - 43s 27ms/step - loss: 0.1638 - accuracy: 0.9432 - val_loss: 1.3340 - val_accuracy: 0.7090\n",
      "Epoch 9/20\n",
      "1563/1563 [==============================] - 43s 27ms/step - loss: 0.1306 - accuracy: 0.9553 - val_loss: 1.6054 - val_accuracy: 0.6950\n",
      "Epoch 10/20\n",
      "1563/1563 [==============================] - 43s 28ms/step - loss: 0.1162 - accuracy: 0.9609 - val_loss: 1.5765 - val_accuracy: 0.7064\n",
      "Epoch 11/20\n",
      "1563/1563 [==============================] - 45s 29ms/step - loss: 0.1048 - accuracy: 0.9649 - val_loss: 1.7196 - val_accuracy: 0.7045\n",
      "Epoch 12/20\n",
      "1563/1563 [==============================] - 43s 28ms/step - loss: 0.1003 - accuracy: 0.9667 - val_loss: 1.9079 - val_accuracy: 0.6957\n",
      "Epoch 13/20\n",
      "1563/1563 [==============================] - 44s 28ms/step - loss: 0.0882 - accuracy: 0.9701 - val_loss: 2.0713 - val_accuracy: 0.6849\n",
      "Epoch 14/20\n",
      "1563/1563 [==============================] - 43s 28ms/step - loss: 0.0893 - accuracy: 0.9709 - val_loss: 1.9113 - val_accuracy: 0.6945\n",
      "Epoch 15/20\n",
      "1563/1563 [==============================] - 43s 27ms/step - loss: 0.0693 - accuracy: 0.9770 - val_loss: 2.2355 - val_accuracy: 0.6971\n",
      "Epoch 16/20\n",
      "1563/1563 [==============================] - 43s 27ms/step - loss: 0.0813 - accuracy: 0.9742 - val_loss: 2.2226 - val_accuracy: 0.6955\n",
      "Epoch 17/20\n",
      "1563/1563 [==============================] - 43s 27ms/step - loss: 0.0757 - accuracy: 0.9762 - val_loss: 2.3575 - val_accuracy: 0.6947\n",
      "Epoch 18/20\n",
      "1563/1563 [==============================] - 43s 28ms/step - loss: 0.0739 - accuracy: 0.9768 - val_loss: 2.3286 - val_accuracy: 0.6944\n",
      "Epoch 19/20\n",
      "1563/1563 [==============================] - 43s 28ms/step - loss: 0.0732 - accuracy: 0.9772 - val_loss: 2.4050 - val_accuracy: 0.7008\n",
      "Epoch 20/20\n",
      "1563/1563 [==============================] - 43s 27ms/step - loss: 0.0707 - accuracy: 0.9786 - val_loss: 2.5150 - val_accuracy: 0.6911\n"
     ]
    }
   ],
   "source": [
    "#TRAINING MODEL\n",
    "model.compile(optimizer='adam', loss='sparse_categorical_crossentropy', metrics=['accuracy'])\n",
    "\n",
    "history = model.fit(train_images, train_labels, epochs=20, \n",
    "                    validation_data=(test_images, test_labels))"
   ]
  },
  {
   "cell_type": "code",
   "execution_count": null,
   "metadata": {},
   "outputs": [],
   "source": []
  }
 ],
 "metadata": {
  "kernelspec": {
   "display_name": "Python 3",
   "language": "python",
   "name": "python3"
  },
  "language_info": {
   "codemirror_mode": {
    "name": "ipython",
    "version": 3
   },
   "file_extension": ".py",
   "mimetype": "text/x-python",
   "name": "python",
   "nbconvert_exporter": "python",
   "pygments_lexer": "ipython3",
   "version": "3.8.5"
  }
 },
 "nbformat": 4,
 "nbformat_minor": 4
}
